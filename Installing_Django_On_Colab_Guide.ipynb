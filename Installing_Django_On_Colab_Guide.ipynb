{
  "cells": [
    {
      "cell_type": "markdown",
      "metadata": {
        "id": "view-in-github",
        "colab_type": "text"
      },
      "source": [
        "<a href=\"https://colab.research.google.com/github/forooghian/backend/blob/main/Installing_Django_On_Colab_Guide.ipynb\" target=\"_parent\"><img src=\"https://colab.research.google.com/assets/colab-badge.svg\" alt=\"Open In Colab\"/></a>"
      ]
    },
    {
      "cell_type": "code",
      "source": [
        "from google.colab import drive\n",
        "drive.mount('/content/drive')"
      ],
      "metadata": {
        "id": "bzjFVPUgCqXd",
        "outputId": "b48f10c0-caff-44bc-b224-859805e3bd63",
        "colab": {
          "base_uri": "https://localhost:8080/"
        }
      },
      "execution_count": 2,
      "outputs": [
        {
          "output_type": "stream",
          "name": "stdout",
          "text": [
            "Mounted at /content/drive\n"
          ]
        }
      ]
    },
    {
      "cell_type": "code",
      "source": [
        "%cd /content/drive/MyDrive/GitHub\n",
        "!ls"
      ],
      "metadata": {
        "id": "7J4J3eeBEqFy",
        "outputId": "49b41fee-a6bd-4d7a-f8d7-781c0c4d965a",
        "colab": {
          "base_uri": "https://localhost:8080/"
        }
      },
      "execution_count": 8,
      "outputs": [
        {
          "output_type": "stream",
          "name": "stdout",
          "text": [
            "/content/drive/MyDrive/GitHub\n"
          ]
        }
      ]
    },
    {
      "cell_type": "code",
      "source": [
        "!ls"
      ],
      "metadata": {
        "id": "82jcZWfH8R-i",
        "outputId": "286463f6-970e-4592-9f64-866b5665c1f7",
        "colab": {
          "base_uri": "https://localhost:8080/"
        }
      },
      "execution_count": 6,
      "outputs": [
        {
          "output_type": "stream",
          "name": "stdout",
          "text": [
            "drive  sample_data\n"
          ]
        }
      ]
    },
    {
      "cell_type": "code",
      "execution_count": null,
      "metadata": {
        "colab": {
          "base_uri": "https://localhost:8080/"
        },
        "id": "4bz-lSE1vkmj",
        "outputId": "6492c01f-2763-4e45-c51a-97f5d3cb00b3"
      },
      "outputs": [
        {
          "output_type": "stream",
          "name": "stdout",
          "text": [
            "Looking in indexes: https://pypi.org/simple, https://us-python.pkg.dev/colab-wheels/public/simple/\n",
            "Collecting django\n",
            "  Downloading Django-4.2.1-py3-none-any.whl (8.0 MB)\n",
            "\u001b[2K     \u001b[90m━━━━━━━━━━━━━━━━━━━━━━━━━━━━━━━━━━━━━━━━\u001b[0m \u001b[32m8.0/8.0 MB\u001b[0m \u001b[31m23.0 MB/s\u001b[0m eta \u001b[36m0:00:00\u001b[0m\n",
            "\u001b[?25hCollecting asgiref<4,>=3.6.0\n",
            "  Downloading asgiref-3.6.0-py3-none-any.whl (23 kB)\n",
            "Requirement already satisfied: sqlparse>=0.3.1 in /usr/local/lib/python3.10/dist-packages (from django) (0.4.4)\n",
            "Installing collected packages: asgiref, django\n",
            "Successfully installed asgiref-3.6.0 django-4.2.1\n"
          ]
        }
      ],
      "source": [
        "!pip install django"
      ]
    },
    {
      "cell_type": "code",
      "execution_count": null,
      "metadata": {
        "id": "UTJHScMS3r3j"
      },
      "outputs": [],
      "source": [
        "!django-admin startproject backend"
      ]
    },
    {
      "cell_type": "code",
      "execution_count": null,
      "metadata": {
        "colab": {
          "base_uri": "https://localhost:8080/"
        },
        "id": "2ByeKE8p31xa",
        "outputId": "1bbd3a66-c07e-4184-dd32-0e077d59d863"
      },
      "outputs": [
        {
          "output_type": "stream",
          "name": "stdout",
          "text": [
            "backend  sample_data\n"
          ]
        }
      ],
      "source": [
        "!ls"
      ]
    },
    {
      "cell_type": "code",
      "execution_count": null,
      "metadata": {
        "colab": {
          "base_uri": "https://localhost:8080/"
        },
        "id": "HtJkaMA943H7",
        "outputId": "d7736c02-5cb9-4d7b-c0b4-7dfc82016eaa"
      },
      "outputs": [
        {
          "output_type": "stream",
          "name": "stdout",
          "text": [
            "/content/backend\n"
          ]
        }
      ],
      "source": [
        "%cd backend"
      ]
    },
    {
      "cell_type": "code",
      "execution_count": null,
      "metadata": {
        "colab": {
          "base_uri": "https://localhost:8080/",
          "height": 34
        },
        "id": "Jv5Rni4Y5Ala",
        "outputId": "dfb4cd34-bf5d-4fe6-98cd-5437e85b2d94"
      },
      "outputs": [
        {
          "output_type": "stream",
          "name": "stdout",
          "text": [
            "https://8vkantd6mx-496ff2e9c6d22116-8000-colab.googleusercontent.com/\n"
          ]
        }
      ],
      "source": [
        "from google.colab.output import eval_js\n",
        "print(eval_js(\"google.colab.kernel.proxyPort(8000)\"))"
      ]
    },
    {
      "cell_type": "code",
      "execution_count": null,
      "metadata": {
        "colab": {
          "background_save": true,
          "base_uri": "https://localhost:8080/"
        },
        "id": "bIk3AJ-I5fKS",
        "outputId": "30a1ca81-361c-4d37-d4bf-19650f13b617"
      },
      "outputs": [
        {
          "output_type": "stream",
          "name": "stdout",
          "text": [
            "Watching for file changes with StatReloader\n",
            "Performing system checks...\n",
            "\n",
            "System check identified no issues (0 silenced).\n",
            "\u001b[31m\n",
            "You have 18 unapplied migration(s). Your project may not work properly until you apply the migrations for app(s): admin, auth, contenttypes, sessions.\u001b[0m\n",
            "\u001b[31mRun 'python manage.py migrate' to apply them.\u001b[0m\n",
            "May 08, 2023 - 04:16:24\n",
            "Django version 4.2.1, using settings 'backend.settings'\n",
            "Starting development server at http://127.0.0.1:8000/\n",
            "Quit the server with CONTROL-C.\n",
            "\n",
            "Invalid HTTP_HOST header: 'colab.research.google.com'. You may need to add 'colab.research.google.com' to ALLOWED_HOSTS.\n",
            "Traceback (most recent call last):\n",
            "  File \"/usr/local/lib/python3.10/dist-packages/django/core/handlers/exception.py\", line 55, in inner\n",
            "    response = get_response(request)\n",
            "  File \"/usr/local/lib/python3.10/dist-packages/django/utils/deprecation.py\", line 133, in __call__\n",
            "    response = self.process_request(request)\n",
            "  File \"/usr/local/lib/python3.10/dist-packages/django/middleware/common.py\", line 48, in process_request\n",
            "    host = request.get_host()\n",
            "  File \"/usr/local/lib/python3.10/dist-packages/django/http/request.py\", line 150, in get_host\n",
            "    raise DisallowedHost(msg)\n",
            "django.core.exceptions.DisallowedHost: Invalid HTTP_HOST header: 'colab.research.google.com'. You may need to add 'colab.research.google.com' to ALLOWED_HOSTS.\n",
            "Bad Request: /\n",
            "[08/May/2023 04:17:35] \u001b[31;1m\"GET / HTTP/1.1\" 400 75045\u001b[0m\n",
            "/content/backend/backend/settings.py changed, reloading.\n",
            "Watching for file changes with StatReloader\n",
            "Performing system checks...\n",
            "\n",
            "System check identified no issues (0 silenced).\n",
            "\u001b[31m\n",
            "You have 18 unapplied migration(s). Your project may not work properly until you apply the migrations for app(s): admin, auth, contenttypes, sessions.\u001b[0m\n",
            "\u001b[31mRun 'python manage.py migrate' to apply them.\u001b[0m\n",
            "May 08, 2023 - 04:18:12\n",
            "Django version 4.2.1, using settings 'backend.settings'\n",
            "Starting development server at http://127.0.0.1:8000/\n",
            "Quit the server with CONTROL-C.\n",
            "\n",
            "/content/backend/backend/settings.py changed, reloading.\n",
            "Watching for file changes with StatReloader\n",
            "Performing system checks...\n",
            "\n",
            "System check identified no issues (0 silenced).\n",
            "\u001b[31m\n",
            "You have 18 unapplied migration(s). Your project may not work properly until you apply the migrations for app(s): admin, auth, contenttypes, sessions.\u001b[0m\n",
            "\u001b[31mRun 'python manage.py migrate' to apply them.\u001b[0m\n",
            "May 08, 2023 - 04:18:13\n",
            "Django version 4.2.1, using settings 'backend.settings'\n",
            "Starting development server at http://127.0.0.1:8000/\n",
            "Quit the server with CONTROL-C.\n",
            "\n",
            "[08/May/2023 04:18:15] \u001b[m\"GET / HTTP/1.1\" 200 10731\u001b[0m\n",
            "[08/May/2023 04:18:16] \u001b[33m\"GET /static/admin/css/fonts.css HTTP/1.1\" 404 1827\u001b[0m\n",
            "Not Found: /favicon.ico\n",
            "[08/May/2023 04:18:17] \u001b[33m\"GET /favicon.ico HTTP/1.1\" 404 2122\u001b[0m\n"
          ]
        }
      ],
      "source": [
        "!python manage.py runserver 8000"
      ]
    }
  ],
  "metadata": {
    "colab": {
      "provenance": [],
      "authorship_tag": "ABX9TyOfMdpsxAYWhZFR9aokDp5Q",
      "include_colab_link": true
    },
    "kernelspec": {
      "display_name": "Python 3",
      "name": "python3"
    },
    "language_info": {
      "name": "python"
    }
  },
  "nbformat": 4,
  "nbformat_minor": 0
}